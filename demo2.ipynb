{
 "cells": [
  {
   "cell_type": "code",
   "execution_count": 2,
   "metadata": {},
   "outputs": [
    {
     "name": "stdout",
     "output_type": "stream",
     "text": [
      "['tests\\\\20180529_A9_003.TIF', 'tests\\\\20180529_A9_011.TIF', 'tests\\\\201805A_A6_004.TIF', 'tests\\\\Case1_E7_025.TIF', 'tests\\\\Case4_D8_007.TIF', 'tests\\\\RU_FI_A10_004.TIF']\n"
     ]
    },
    {
     "name": "stderr",
     "output_type": "stream",
     "text": [
      "100%|██████████| 6/6 [00:06<00:00,  1.05s/it]"
     ]
    },
    {
     "name": "stdout",
     "output_type": "stream",
     "text": [
      "Sample segmented image:\n"
     ]
    },
    {
     "name": "stderr",
     "output_type": "stream",
     "text": [
      "\n"
     ]
    },
    {
     "data": {
      "text/plain": [
       "<matplotlib.image.AxesImage at 0x28a0bb818b0>"
      ]
     },
     "execution_count": 2,
     "metadata": {},
     "output_type": "execute_result"
    },
    {
     "data": {
      "image/png": "[encoded data removed]",
      "text/plain": [
       "<Figure size 432x288 with 1 Axes>"
      ]
     },
     "metadata": {
      "needs_background": "light"
     },
     "output_type": "display_data"
    }
   ],
   "source": [
    "import os\n",
    "from glob import glob\n",
    "\n",
    "import numpy as np\n",
    "from PIL import Image\n",
    "from tqdm import tqdm\n",
    "\n",
    "import matplotlib\n",
    "\n",
    "from deployment import Segmenter\n",
    "\n",
    "\n",
    "def demo():\n",
    "    # Gather paths of images to be segmented.\n",
    "    data_dir = os.path.join(\"tests/\")\n",
    "    image_paths = glob(os.path.join(data_dir, \"*.*\"))\n",
    "    \n",
    "    print(image_paths)\n",
    "\n",
    "    # When segmenting many images, it may be advisable to use a GPU.\n",
    "    device = \"cuda\"\n",
    "\n",
    "    # Perform the segmentation.\n",
    "    masks = iterate_and_segment_images(image_paths, device)\n",
    "    \n",
    "    return masks,image_paths\n",
    "\n",
    "\n",
    "def iterate_and_segment_images(image_paths, device=\"cpu\"):\n",
    "\n",
    "    # Create a Segmenter object.\n",
    "    segmenter = Segmenter(device=device)\n",
    "\n",
    "    # Create an empty list to store the masks.\n",
    "    masks = []\n",
    "    # Iterate the image paths.\n",
    "    for image_path in tqdm(image_paths):\n",
    "        # Load an image and convert it to an RGB array.\n",
    "        image = np.asarray(Image.open(image_path).convert(\"RGB\"))\n",
    "\n",
    "        # Segment the image.\n",
    "        mask = segmenter.segment_image(image)\n",
    "\n",
    "        # Store the mask in the list of masks.\n",
    "        masks.append(mask)\n",
    "        \n",
    "    return masks\n",
    "\n",
    "\n",
    "if __name__ == \"__main__\":\n",
    "    masks,image_paths = demo()\n",
    "\n",
    "# show images\n",
    "print('Sample segmented image:')\n",
    "matplotlib.pyplot.gray()\n",
    "matplotlib.pyplot.imshow(masks[0])\n"
   ]
  },
  {
   "cell_type": "code",
   "execution_count": 3,
   "metadata": {},
   "outputs": [
    {
     "name": "stderr",
     "output_type": "stream",
     "text": [
      "100%|██████████| 6/6 [00:01<00:00,  5.69it/s]\n"
     ]
    }
   ],
   "source": [
    "# save output binary image\n",
    "\n",
    "import ntpath\n",
    "\n",
    "ii = 0\n",
    "for image_path in tqdm(image_paths):\n",
    "    _, tail = ntpath.split(image_path)\n",
    "    # tail = os.path.splitext(tail)[0]\n",
    "    \n",
    "    matplotlib.image.imsave('result/' + tail, masks[ii], format='tiff')\n",
    "    ii = ii+1\n",
    "\n"
   ]
  },
  {
   "cell_type": "code",
   "execution_count": 4,
   "metadata": {},
   "outputs": [],
   "source": [
    "# print(segmenter.model)\n",
    "# \n",
    "# import torch\n",
    "# \n",
    "# image_io = segmenter.augmentation_fn(image=image)[\"image\"]\n",
    "# image_io = segmenter.preprocessing_fn(image=image_io)[\"image\"]\n",
    "# image_io = torch.from_numpy(image_io).to(segmenter.device).unsqueeze(0)\n",
    "# \n",
    "# torch.onnx.export(segmenter.model, image_io, 'model.onnx')"
   ]
  },
  {
   "cell_type": "code",
   "execution_count": null,
   "metadata": {},
   "outputs": [],
   "source": []
  }
 ],
 "metadata": {
  "kernelspec": {
   "display_name": "Python 3",
   "language": "python",
   "name": "python3"
  },
  "language_info": {
   "codemirror_mode": {
    "name": "ipython",
    "version": 3
   },
   "file_extension": ".py",
   "mimetype": "text/x-python",
   "name": "python",
   "nbconvert_exporter": "python",
   "pygments_lexer": "ipython3",
   "version": "3.8.6"
  }
 },
 "nbformat": 4,
 "nbformat_minor": 4
}
