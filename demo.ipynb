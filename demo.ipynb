{
 "cells": [
  {
   "cell_type": "code",
   "execution_count": 1,
   "metadata": {},
   "outputs": [
    {
     "ename": "SyntaxError",
     "evalue": "EOL while scanning string literal (<ipython-input-1-119d0453543d>, line 23)",
     "output_type": "error",
     "traceback": [
      "\u001b[1;36m  File \u001b[1;32m\"<ipython-input-1-119d0453543d>\"\u001b[1;36m, line \u001b[1;32m23\u001b[0m\n\u001b[1;33m    print('image_paths = )\u001b[0m\n\u001b[1;37m                          ^\u001b[0m\n\u001b[1;31mSyntaxError\u001b[0m\u001b[1;31m:\u001b[0m EOL while scanning string literal\n"
     ]
    }
   ],
   "source": [
    "# NOTE: Issues may occur with CUDA if not enough memory is available.\n",
    "\n",
    "# Import relevant packages\n",
    "import os\n",
    "from glob import glob\n",
    "\n",
    "import numpy as np\n",
    "from PIL import Image\n",
    "from tqdm import tqdm\n",
    "import matplotlib # used to save images\n",
    "\n",
    "from deployment import Segmenter # local module for segmentation\n",
    "\n",
    "\n",
    "#== Define segmenter, read images, and perform segmentation ======%\n",
    "def demo():\n",
    "    # Gather paths of images to be segmented.\n",
    "    data_dir = os.path.join(\"tests/\") # for test images\n",
    "    # data_dir = os.path.join(\"data/\") # OR for images in data/ folder\n",
    "    image_paths = glob(os.path.join(data_dir, \"*.*\"))\n",
    "    \n",
    "    # Show the user the names of the images beign segmented.\n",
    "    print('image_paths = )\n",
    "    print(image_paths)\n",
    "\n",
    "    # When segmenting many images, it may be advisable to use a GPU.\n",
    "    device = \"cuda\"\n",
    "\n",
    "    # Perform the segmentation.\n",
    "    masks = iterateSegmentation(image_paths, device)\n",
    "    \n",
    "    return masks,image_paths\n",
    "\n",
    "\n",
    "# iterative segmentation function\n",
    "def iterateSegmentation(image_paths, device=\"cpu\"):\n",
    "\n",
    "    # Create a Segmenter object.\n",
    "    segmenter = Segmenter(device=device)\n",
    "\n",
    "    # Create an empty list to store the masks.\n",
    "    masks = []\n",
    "    # Iterate the image paths.\n",
    "    for image_path in tqdm(image_paths):\n",
    "        # Load an image and convert it to an RGB array.\n",
    "        image = np.asarray(Image.open(image_path).convert(\"RGB\"))\n",
    "\n",
    "        # Segment the image.\n",
    "        mask = segmenter.segment_image(image)\n",
    "\n",
    "        # Store the mask in the list of masks.\n",
    "        masks.append(mask)\n",
    "        \n",
    "    return masks\n",
    "    \n",
    "\n",
    "if __name__ == \"__main__\":\n",
    "    masks,image_paths = demo()\n",
    "    \n",
    "print('Complete.')"
   ]
  },
  {
   "cell_type": "code",
   "execution_count": null,
   "metadata": {},
   "outputs": [],
   "source": [
    "#== Show segmented binary images =================================%\n",
    "from visualization import viz_binaries\n",
    "\n",
    "print('Sample segmented images:')\n",
    "\n",
    "# function to loop through and load images\n",
    "viz_binaries(masks, image_paths) # run above function"
   ]
  },
  {
   "cell_type": "code",
   "execution_count": null,
   "metadata": {},
   "outputs": [],
   "source": [
    "#== Ouput binary images by saving to the results folder ==========#\n",
    "import ntpath # import an extra package used to get file names\n",
    "\n",
    "ii = 0\n",
    "for image_path in tqdm(image_paths):\n",
    "    _, tail = ntpath.split(image_path)\n",
    "    matplotlib.image.imsave('results/' + tail, masks[ii], format='tiff')\n",
    "    ii = ii+1\n",
    "\n",
    "print('Complete: Images saved to results/ folder.')"
   ]
  },
  {
   "cell_type": "code",
   "execution_count": null,
   "metadata": {},
   "outputs": [],
   "source": []
  },
  {
   "cell_type": "code",
   "execution_count": null,
   "metadata": {},
   "outputs": [],
   "source": []
  }
 ],
 "metadata": {
  "kernelspec": {
   "display_name": "Python 3",
   "language": "python",
   "name": "python3"
  },
  "language_info": {
   "codemirror_mode": {
    "name": "ipython",
    "version": 3
   },
   "file_extension": ".py",
   "mimetype": "text/x-python",
   "name": "python",
   "nbconvert_exporter": "python",
   "pygments_lexer": "ipython3",
   "version": "3.8.6"
  }
 },
 "nbformat": 4,
 "nbformat_minor": 4
}
